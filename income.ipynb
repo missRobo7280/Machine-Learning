{
 "cells": [
  {
   "cell_type": "code",
   "execution_count": 2,
   "metadata": {},
   "outputs": [],
   "source": [
    "import pandas as pd\n",
    "import numpy as np\n",
    "import matplotlib.pyplot as plt"
   ]
  },
  {
   "cell_type": "code",
   "execution_count": 3,
   "metadata": {},
   "outputs": [
    {
     "data": {
      "text/plain": [
       "Index(['age', 'workclass', 'fnlgwt', 'education', 'education-num',\n",
       "       'marital-status', 'occupation', 'relationship', 'race', 'sex',\n",
       "       'capital-gain', 'capital-loss', 'hours-per-week', 'native-country'],\n",
       "      dtype='object')"
      ]
     },
     "execution_count": 3,
     "metadata": {},
     "output_type": "execute_result"
    }
   ],
   "source": [
    "a=['age','workclass','fnlgwt','education','education-num','marital-status','occupation','relationship','race','sex','capital-gain','capital-loss','hours-per-week','native-country']\n",
    "data=pd.read_csv(r'E:\\AI & ML\\Activity-2\\income.csv',names=a)\n",
    "data.columns"
   ]
  },
  {
   "cell_type": "code",
   "execution_count": 4,
   "metadata": {},
   "outputs": [
    {
     "name": "stdout",
     "output_type": "stream",
     "text": [
      "                     age  workclass    fnlgwt  education  education-num  \\\n",
      "age             1.000000  -0.016656  0.023513   0.052085      -0.064731   \n",
      "workclass      -0.016656   1.000000 -0.028145  -0.043195       0.028153   \n",
      "fnlgwt          0.023513  -0.028145  1.000000   0.359153      -0.038407   \n",
      "education       0.052085  -0.043195  0.359153   1.000000      -0.069304   \n",
      "education-num  -0.064731   0.028153 -0.038407  -0.069304       1.000000   \n",
      "marital-status  0.254892   0.001597 -0.021260   0.109697      -0.009654   \n",
      "occupation     -0.090461   0.008931 -0.010876  -0.094153       0.185451   \n",
      "relationship    0.049742  -0.021291  0.014131   0.031838      -0.068013   \n",
      "race            0.095981   0.026858 -0.027356   0.012280      -0.129314   \n",
      "sex             0.033835   0.000432  0.030046   0.122630      -0.043393   \n",
      "capital-gain    0.012216  -0.010252  0.016746   0.079923      -0.034187   \n",
      "capital-loss    0.138962  -0.018768  0.055510   0.148123      -0.190519   \n",
      "hours-per-week -0.007690  -0.051966  0.064288   0.050840      -0.023819   \n",
      "\n",
      "                marital-status  occupation  relationship      race       sex  \\\n",
      "age                   0.254892   -0.090461      0.049742  0.095981  0.033835   \n",
      "workclass             0.001597    0.008931     -0.021291  0.026858  0.000432   \n",
      "fnlgwt               -0.021260   -0.010876      0.014131 -0.027356  0.030046   \n",
      "education             0.109697   -0.094153      0.031838  0.012280  0.122630   \n",
      "education-num        -0.009654    0.185451     -0.068013 -0.129314 -0.043393   \n",
      "marital-status        1.000000   -0.075607      0.006763  0.080296  0.025505   \n",
      "occupation           -0.075607    1.000000     -0.116055 -0.582454 -0.057919   \n",
      "relationship          0.006763   -0.116055      1.000000  0.087204  0.011145   \n",
      "race                  0.080296   -0.582454      0.087204  1.000000  0.048480   \n",
      "sex                   0.025505   -0.057919      0.011145  0.048480  1.000000   \n",
      "capital-gain          0.017987   -0.061062      0.018899  0.045567 -0.031615   \n",
      "capital-loss          0.080383   -0.248974      0.041910  0.229309  0.078409   \n",
      "hours-per-week       -0.012543   -0.005507      0.137852 -0.008119 -0.001982   \n",
      "\n",
      "                capital-gain  capital-loss  hours-per-week  \n",
      "age                 0.012216      0.138962       -0.007690  \n",
      "workclass          -0.010252     -0.018768       -0.051966  \n",
      "fnlgwt              0.016746      0.055510        0.064288  \n",
      "education           0.079923      0.148123        0.050840  \n",
      "education-num      -0.034187     -0.190519       -0.023819  \n",
      "marital-status      0.017987      0.080383       -0.012543  \n",
      "occupation         -0.061062     -0.248974       -0.005507  \n",
      "relationship        0.018899      0.041910        0.137852  \n",
      "race                0.045567      0.229309       -0.008119  \n",
      "sex                -0.031615      0.078409       -0.001982  \n",
      "capital-gain        1.000000      0.054256        0.000419  \n",
      "capital-loss        0.054256      1.000000       -0.002671  \n",
      "hours-per-week      0.000419     -0.002671        1.000000  \n"
     ]
    }
   ],
   "source": [
    "from sklearn.preprocessing import LabelEncoder\n",
    "le=LabelEncoder()\n",
    "data[['age','fnlgwt','education-num','marital-status','occupation','relationship','race','hours-per-week','native-country']]=data[['age','fnlgwt','education-num','marital-status','occupation','relationship','race','hours-per-week','native-country']].apply(LabelEncoder().fit_transform)\n",
    "print(data.iloc[:,:-1].corr())"
   ]
  },
  {
   "cell_type": "code",
   "execution_count": 5,
   "metadata": {},
   "outputs": [],
   "source": [
    "x=data.iloc[:,:-1].values\n",
    "y=data.iloc[:,-1].values"
   ]
  },
  {
   "cell_type": "code",
   "execution_count": 6,
   "metadata": {},
   "outputs": [],
   "source": [
    "from sklearn.model_selection import train_test_split\n",
    "(xtrain,xtest,ytrain,ytest)=train_test_split(x,y,test_size=0.001,random_state=12)\n",
    "from sklearn.neighbors import KNeighborsClassifier\n",
    "model=KNeighborsClassifier(n_neighbors=2)\n",
    "model.fit(xtrain,ytrain)\n",
    "ypred=model.predict(xtest)"
   ]
  },
  {
   "cell_type": "code",
   "execution_count": 7,
   "metadata": {},
   "outputs": [
    {
     "name": "stdout",
     "output_type": "stream",
     "text": [
      "81.81818181818183\n"
     ]
    }
   ],
   "source": [
    "\n",
    "from sklearn.metrics import accuracy_score\n",
    "print(accuracy_score(ytest,ypred)*100)"
   ]
  },
  {
   "cell_type": "markdown",
   "metadata": {},
   "source": []
  }
 ],
 "metadata": {
  "kernelspec": {
   "display_name": "Python 3",
   "language": "python",
   "name": "python3"
  },
  "language_info": {
   "codemirror_mode": {
    "name": "ipython",
    "version": 3
   },
   "file_extension": ".py",
   "mimetype": "text/x-python",
   "name": "python",
   "nbconvert_exporter": "python",
   "pygments_lexer": "ipython3",
   "version": "3.11.4"
  },
  "orig_nbformat": 4
 },
 "nbformat": 4,
 "nbformat_minor": 2
}
