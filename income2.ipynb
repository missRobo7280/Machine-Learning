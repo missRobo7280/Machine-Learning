{
 "cells": [
  {
   "cell_type": "code",
   "execution_count": 5,
   "metadata": {},
   "outputs": [],
   "source": [
    "import pandas as pd\n",
    "import numpy as np\n",
    "import matplotlib.pyplot as plt"
   ]
  },
  {
   "cell_type": "code",
   "execution_count": 6,
   "metadata": {},
   "outputs": [
    {
     "name": "stdout",
     "output_type": "stream",
     "text": [
      "Index(['a', 'b', 'c', 'd', 'e', 'f', 'g', 'h', 'i', 'j', 'k', 'l', 'm', 'n',\n",
      "       'o'],\n",
      "      dtype='object')\n"
     ]
    }
   ],
   "source": [
    "a=[i for i in 'abcdefghijklmno']\n",
    "data=pd.read_csv(r'E:\\AI & ML\\Activity-2\\income.csv',names=a)\n",
    "print(data.columns)\n"
   ]
  },
  {
   "cell_type": "code",
   "execution_count": 7,
   "metadata": {},
   "outputs": [
    {
     "data": {
      "text/plain": [
       "array([39, 50, 38, 53, 28, 37, 49, 52, 31, 42, 30, 23, 32, 40, 34, 25, 43,\n",
       "       54, 35, 59, 56, 19, 20, 45, 22, 48, 21, 24, 57, 44, 41, 29, 18, 47,\n",
       "       46, 36, 79, 27, 67, 33, 76, 17, 55, 61, 70, 64, 71, 68, 66, 51, 58,\n",
       "       26, 60, 90, 75, 65, 77, 62, 63, 80, 72, 74, 69, 73, 81, 78, 88, 82,\n",
       "       83, 84, 85, 86, 87], dtype=int64)"
      ]
     },
     "execution_count": 7,
     "metadata": {},
     "output_type": "execute_result"
    }
   ],
   "source": [
    "#data['a'].value_counts()\n",
    "data['a'].unique()\n",
    "#data.isna().sum()"
   ]
  },
  {
   "cell_type": "code",
   "execution_count": 20,
   "metadata": {},
   "outputs": [],
   "source": [
    "data['b'].value_counts()\n",
    "data['b'].replace(to_replace=' ?',value=' Private',inplace=True)\n",
    "\n",
    "data['g'].value_counts()\n",
    "data['g'].replace(to_replace=' ?',value=' Adm-clerical',inplace=True)\n",
    "\n",
    "data['n'].value_counts()\n",
    "data['n'].replace(to_replace=' ?',value=' United-States',inplace=True)"
   ]
  },
  {
   "cell_type": "code",
   "execution_count": 9,
   "metadata": {},
   "outputs": [],
   "source": [
    "##to find the ' ?' values and then replace them with any value we want to\n",
    "##but before that we need to see if it is '?' or has a space as well like ' ?' for this we need to use the \"unique\" command"
   ]
  },
  {
   "cell_type": "code",
   "execution_count": 10,
   "metadata": {},
   "outputs": [],
   "source": [
    "data['x']=np.arange(0,len(data))\n",
    "s='bdfghijn'\n",
    "from sklearn.preprocessing import LabelEncoder\n",
    "le=LabelEncoder()\n",
    "for i in s:\n",
    "    data[i+'enc']=le.fit_transform(data[i])\n",
    "\n"
   ]
  },
  {
   "cell_type": "code",
   "execution_count": 18,
   "metadata": {},
   "outputs": [
    {
     "name": "stdout",
     "output_type": "stream",
     "text": [
      "                      b  benc\n",
      "x                            \n",
      "0             State-gov     6\n",
      "1      Self-emp-not-inc     5\n",
      "2               Private     3\n",
      "22          Federal-gov     0\n",
      "25            Local-gov     1\n",
      "54         Self-emp-inc     4\n",
      "1901        Without-pay     7\n",
      "5361       Never-worked     2\n",
      "                 d  denc\n",
      "x                       \n",
      "0        Bachelors     9\n",
      "2          HS-grad    11\n",
      "3             11th     1\n",
      "5          Masters    12\n",
      "6              9th     6\n",
      "10    Some-college    15\n",
      "13      Assoc-acdm     7\n",
      "14       Assoc-voc     8\n",
      "15         7th-8th     5\n",
      "20       Doctorate    10\n",
      "52     Prof-school    14\n",
      "56         5th-6th     4\n",
      "77            10th     0\n",
      "160        1st-4th     3\n",
      "224      Preschool    13\n",
      "415           12th     2\n",
      "                          f  fenc\n",
      "x                                \n",
      "0             Never-married     4\n",
      "1        Married-civ-spouse     2\n",
      "2                  Divorced     0\n",
      "6     Married-spouse-absent     3\n",
      "21                Separated     5\n",
      "37        Married-AF-spouse     1\n",
      "147                 Widowed     6\n",
      "                      g  genc\n",
      "x                            \n",
      "0          Adm-clerical     0\n",
      "1       Exec-managerial     3\n",
      "2     Handlers-cleaners     5\n",
      "4        Prof-specialty     9\n",
      "6         Other-service     7\n",
      "13                Sales    11\n",
      "14         Craft-repair     2\n",
      "15     Transport-moving    13\n",
      "16      Farming-fishing     4\n",
      "17    Machine-op-inspct     6\n",
      "24         Tech-support    12\n",
      "30      Protective-serv    10\n",
      "442        Armed-Forces     1\n",
      "536     Priv-house-serv     8\n",
      "                  h  henc\n",
      "x                        \n",
      "0     Not-in-family     1\n",
      "1           Husband     0\n",
      "4              Wife     5\n",
      "12        Own-child     3\n",
      "17        Unmarried     4\n",
      "74   Other-relative     2\n",
      "                      i  ienc\n",
      "x                            \n",
      "0                 White     4\n",
      "3                 Black     2\n",
      "11   Asian-Pac-Islander     1\n",
      "15   Amer-Indian-Eskimo     0\n",
      "50                Other     3\n",
      "                n  denc\n",
      "x                      \n",
      "0   United-States     9\n",
      "4            Cuba     9\n",
      "                                 n  nenc\n",
      "x                                       \n",
      "0                    United-States    38\n",
      "4                             Cuba     4\n",
      "6                          Jamaica    22\n",
      "11                           India    18\n",
      "15                          Mexico    25\n",
      "27                           South    34\n",
      "35                     Puerto-Rico    32\n",
      "52                        Honduras    15\n",
      "98                         England     8\n",
      "112                         Canada     1\n",
      "122                        Germany    10\n",
      "135                           Iran    19\n",
      "152                    Philippines    29\n",
      "201                          Italy    21\n",
      "217                         Poland    30\n",
      "228                       Columbia     3\n",
      "255                       Cambodia     0\n",
      "265                       Thailand    36\n",
      "289                        Ecuador     6\n",
      "304                           Laos    24\n",
      "311                         Taiwan    35\n",
      "338                          Haiti    13\n",
      "359                       Portugal    31\n",
      "427             Dominican-Republic     5\n",
      "497                    El-Salvador     7\n",
      "503                         France     9\n",
      "771                      Guatemala    12\n",
      "873                          China     2\n",
      "1020                         Japan    23\n",
      "1025                    Yugoslavia    40\n",
      "1430                          Peru    28\n",
      "1565    Outlying-US(Guam-USVI-etc)    27\n",
      "1586                      Scotland    33\n",
      "1794               Trinadad&Tobago    37\n",
      "1888                        Greece    11\n",
      "1948                     Nicaragua    26\n",
      "2259                       Vietnam    39\n",
      "2655                          Hong    16\n",
      "2966                       Ireland    20\n",
      "8562                       Hungary    17\n",
      "19609           Holand-Netherlands    14\n",
      "Index(['a', 'b', 'c', 'd', 'e', 'f', 'g', 'h', 'i', 'j', 'k', 'l', 'm', 'n',\n",
      "       'o', 'x', 'benc', 'denc', 'fenc', 'genc', 'henc', 'ienc', 'jenc',\n",
      "       'nenc'],\n",
      "      dtype='object')\n"
     ]
    }
   ],
   "source": [
    "s=data.drop_duplicates('b').set_index('x')\n",
    "print(s[['b','benc']])\n",
    "s1=data.drop_duplicates('d').set_index('x')\n",
    "print(s1[['d','denc']])\n",
    "s2=data.drop_duplicates('f').set_index('x')\n",
    "print(s2[['f','fenc']])\n",
    "s3=data.drop_duplicates('g').set_index('x')\n",
    "print(s3[['g','genc']])\n",
    "s4=data.drop_duplicates('h').set_index('x')\n",
    "print(s4[['h','henc']])\n",
    "s5=data.drop_duplicates('i').set_index('x')\n",
    "print(s5[['i','ienc']])\n",
    "s6=data.drop_duplicates('j').set_index('x')\n",
    "print(s6[['n','denc']])\n",
    "s7=data.drop_duplicates('n').set_index('x')\n",
    "print(s7[['n','nenc']])\n",
    "print(data.columns)"
   ]
  },
  {
   "cell_type": "code",
   "execution_count": 19,
   "metadata": {},
   "outputs": [
    {
     "ename": "KeyError",
     "evalue": "\"[('b', 'd', 'f', 'g', 'h', 'i', 'j', 'n')] not found in axis\"",
     "output_type": "error",
     "traceback": [
      "\u001b[1;31m---------------------------------------------------------------------------\u001b[0m",
      "\u001b[1;31mKeyError\u001b[0m                                  Traceback (most recent call last)",
      "Cell \u001b[1;32mIn[19], line 1\u001b[0m\n\u001b[1;32m----> 1\u001b[0m data\u001b[39m.\u001b[39;49mdrop([[\u001b[39m'\u001b[39;49m\u001b[39mb\u001b[39;49m\u001b[39m'\u001b[39;49m, \u001b[39m'\u001b[39;49m\u001b[39md\u001b[39;49m\u001b[39m'\u001b[39;49m, \u001b[39m'\u001b[39;49m\u001b[39mf\u001b[39;49m\u001b[39m'\u001b[39;49m, \u001b[39m'\u001b[39;49m\u001b[39mg\u001b[39;49m\u001b[39m'\u001b[39;49m, \u001b[39m'\u001b[39;49m\u001b[39mh\u001b[39;49m\u001b[39m'\u001b[39;49m, \u001b[39m'\u001b[39;49m\u001b[39mi\u001b[39;49m\u001b[39m'\u001b[39;49m, \u001b[39m'\u001b[39;49m\u001b[39mj\u001b[39;49m\u001b[39m'\u001b[39;49m, \u001b[39m'\u001b[39;49m\u001b[39mn\u001b[39;49m\u001b[39m'\u001b[39;49m]],axis\u001b[39m=\u001b[39;49m\u001b[39m1\u001b[39;49m,inplace\u001b[39m=\u001b[39;49m\u001b[39mTrue\u001b[39;49;00m)\n\u001b[0;32m      2\u001b[0m x\u001b[39m=\u001b[39mnp\u001b[39m.\u001b[39marray(data\u001b[39m.\u001b[39miloc[:])\n\u001b[0;32m      3\u001b[0m y\u001b[39m=\u001b[39mdata\u001b[39m.\u001b[39mioc[:,:\u001b[39m-\u001b[39m\u001b[39m1\u001b[39m]\u001b[39m.\u001b[39mvalues\n",
      "File \u001b[1;32m~\\AppData\\Roaming\\Python\\Python311\\site-packages\\pandas\\core\\frame.py:5258\u001b[0m, in \u001b[0;36mDataFrame.drop\u001b[1;34m(self, labels, axis, index, columns, level, inplace, errors)\u001b[0m\n\u001b[0;32m   5110\u001b[0m \u001b[39mdef\u001b[39;00m \u001b[39mdrop\u001b[39m(\n\u001b[0;32m   5111\u001b[0m     \u001b[39mself\u001b[39m,\n\u001b[0;32m   5112\u001b[0m     labels: IndexLabel \u001b[39m=\u001b[39m \u001b[39mNone\u001b[39;00m,\n\u001b[1;32m   (...)\u001b[0m\n\u001b[0;32m   5119\u001b[0m     errors: IgnoreRaise \u001b[39m=\u001b[39m \u001b[39m\"\u001b[39m\u001b[39mraise\u001b[39m\u001b[39m\"\u001b[39m,\n\u001b[0;32m   5120\u001b[0m ) \u001b[39m-\u001b[39m\u001b[39m>\u001b[39m DataFrame \u001b[39m|\u001b[39m \u001b[39mNone\u001b[39;00m:\n\u001b[0;32m   5121\u001b[0m \u001b[39m    \u001b[39m\u001b[39m\"\"\"\u001b[39;00m\n\u001b[0;32m   5122\u001b[0m \u001b[39m    Drop specified labels from rows or columns.\u001b[39;00m\n\u001b[0;32m   5123\u001b[0m \n\u001b[1;32m   (...)\u001b[0m\n\u001b[0;32m   5256\u001b[0m \u001b[39m            weight  1.0     0.8\u001b[39;00m\n\u001b[0;32m   5257\u001b[0m \u001b[39m    \"\"\"\u001b[39;00m\n\u001b[1;32m-> 5258\u001b[0m     \u001b[39mreturn\u001b[39;00m \u001b[39msuper\u001b[39;49m()\u001b[39m.\u001b[39;49mdrop(\n\u001b[0;32m   5259\u001b[0m         labels\u001b[39m=\u001b[39;49mlabels,\n\u001b[0;32m   5260\u001b[0m         axis\u001b[39m=\u001b[39;49maxis,\n\u001b[0;32m   5261\u001b[0m         index\u001b[39m=\u001b[39;49mindex,\n\u001b[0;32m   5262\u001b[0m         columns\u001b[39m=\u001b[39;49mcolumns,\n\u001b[0;32m   5263\u001b[0m         level\u001b[39m=\u001b[39;49mlevel,\n\u001b[0;32m   5264\u001b[0m         inplace\u001b[39m=\u001b[39;49minplace,\n\u001b[0;32m   5265\u001b[0m         errors\u001b[39m=\u001b[39;49merrors,\n\u001b[0;32m   5266\u001b[0m     )\n",
      "File \u001b[1;32m~\\AppData\\Roaming\\Python\\Python311\\site-packages\\pandas\\core\\generic.py:4549\u001b[0m, in \u001b[0;36mNDFrame.drop\u001b[1;34m(self, labels, axis, index, columns, level, inplace, errors)\u001b[0m\n\u001b[0;32m   4547\u001b[0m \u001b[39mfor\u001b[39;00m axis, labels \u001b[39min\u001b[39;00m axes\u001b[39m.\u001b[39mitems():\n\u001b[0;32m   4548\u001b[0m     \u001b[39mif\u001b[39;00m labels \u001b[39mis\u001b[39;00m \u001b[39mnot\u001b[39;00m \u001b[39mNone\u001b[39;00m:\n\u001b[1;32m-> 4549\u001b[0m         obj \u001b[39m=\u001b[39m obj\u001b[39m.\u001b[39;49m_drop_axis(labels, axis, level\u001b[39m=\u001b[39;49mlevel, errors\u001b[39m=\u001b[39;49merrors)\n\u001b[0;32m   4551\u001b[0m \u001b[39mif\u001b[39;00m inplace:\n\u001b[0;32m   4552\u001b[0m     \u001b[39mself\u001b[39m\u001b[39m.\u001b[39m_update_inplace(obj)\n",
      "File \u001b[1;32m~\\AppData\\Roaming\\Python\\Python311\\site-packages\\pandas\\core\\generic.py:4591\u001b[0m, in \u001b[0;36mNDFrame._drop_axis\u001b[1;34m(self, labels, axis, level, errors, only_slice)\u001b[0m\n\u001b[0;32m   4589\u001b[0m         new_axis \u001b[39m=\u001b[39m axis\u001b[39m.\u001b[39mdrop(labels, level\u001b[39m=\u001b[39mlevel, errors\u001b[39m=\u001b[39merrors)\n\u001b[0;32m   4590\u001b[0m     \u001b[39melse\u001b[39;00m:\n\u001b[1;32m-> 4591\u001b[0m         new_axis \u001b[39m=\u001b[39m axis\u001b[39m.\u001b[39;49mdrop(labels, errors\u001b[39m=\u001b[39;49merrors)\n\u001b[0;32m   4592\u001b[0m     indexer \u001b[39m=\u001b[39m axis\u001b[39m.\u001b[39mget_indexer(new_axis)\n\u001b[0;32m   4594\u001b[0m \u001b[39m# Case for non-unique axis\u001b[39;00m\n\u001b[0;32m   4595\u001b[0m \u001b[39melse\u001b[39;00m:\n",
      "File \u001b[1;32m~\\AppData\\Roaming\\Python\\Python311\\site-packages\\pandas\\core\\indexes\\base.py:6699\u001b[0m, in \u001b[0;36mIndex.drop\u001b[1;34m(self, labels, errors)\u001b[0m\n\u001b[0;32m   6697\u001b[0m \u001b[39mif\u001b[39;00m mask\u001b[39m.\u001b[39many():\n\u001b[0;32m   6698\u001b[0m     \u001b[39mif\u001b[39;00m errors \u001b[39m!=\u001b[39m \u001b[39m\"\u001b[39m\u001b[39mignore\u001b[39m\u001b[39m\"\u001b[39m:\n\u001b[1;32m-> 6699\u001b[0m         \u001b[39mraise\u001b[39;00m \u001b[39mKeyError\u001b[39;00m(\u001b[39mf\u001b[39m\u001b[39m\"\u001b[39m\u001b[39m{\u001b[39;00m\u001b[39mlist\u001b[39m(labels[mask])\u001b[39m}\u001b[39;00m\u001b[39m not found in axis\u001b[39m\u001b[39m\"\u001b[39m)\n\u001b[0;32m   6700\u001b[0m     indexer \u001b[39m=\u001b[39m indexer[\u001b[39m~\u001b[39mmask]\n\u001b[0;32m   6701\u001b[0m \u001b[39mreturn\u001b[39;00m \u001b[39mself\u001b[39m\u001b[39m.\u001b[39mdelete(indexer)\n",
      "\u001b[1;31mKeyError\u001b[0m: \"[('b', 'd', 'f', 'g', 'h', 'i', 'j', 'n')] not found in axis\""
     ]
    }
   ],
   "source": [
    "\n",
    "data.drop([['b', 'd', 'f', 'g', 'h', 'i', 'j', 'n']],axis=1,inplace=True)\n",
    "x=np.array(data.iloc[:])\n",
    "y=data.ioc[:,:-1].values\n",
    "print(x.shape,y.shape)\n",
    "          "
   ]
  },
  {
   "cell_type": "code",
   "execution_count": 22,
   "metadata": {},
   "outputs": [
    {
     "ename": "NameError",
     "evalue": "name 'x' is not defined",
     "output_type": "error",
     "traceback": [
      "\u001b[1;31m---------------------------------------------------------------------------\u001b[0m",
      "\u001b[1;31mNameError\u001b[0m                                 Traceback (most recent call last)",
      "Cell \u001b[1;32mIn[22], line 2\u001b[0m\n\u001b[0;32m      1\u001b[0m \u001b[39mfrom\u001b[39;00m \u001b[39msklearn\u001b[39;00m\u001b[39m.\u001b[39;00m\u001b[39mmodel_selection\u001b[39;00m \u001b[39mimport\u001b[39;00m train_test_split\n\u001b[1;32m----> 2\u001b[0m xtrain,xtest,ytrain,ytest\u001b[39m=\u001b[39mtrain_test_split(x,y,test_size\u001b[39m=\u001b[39m\u001b[39m0.001\u001b[39m,random_state\u001b[39m=\u001b[39m\u001b[39m12\u001b[39m)\n\u001b[0;32m      3\u001b[0m \u001b[39mfrom\u001b[39;00m \u001b[39msklearn\u001b[39;00m\u001b[39m.\u001b[39;00m\u001b[39mneighbors\u001b[39;00m \u001b[39mimport\u001b[39;00m KNeighborsClassifier\n\u001b[0;32m      4\u001b[0m model\u001b[39m=\u001b[39mKNeighborsClassifier(n_neighbors\u001b[39m=\u001b[39m\u001b[39m3\u001b[39m)\n",
      "\u001b[1;31mNameError\u001b[0m: name 'x' is not defined"
     ]
    }
   ],
   "source": [
    "from sklearn.model_selection import train_test_split\n",
    "xtrain,xtest,ytrain,ytest=train_test_split(x,y,test_size=0.001,random_state=12)\n",
    "from sklearn.neighbors import KNeighborsClassifier\n",
    "model=KNeighborsClassifier(n_neighbors=3)\n",
    "model.fit(xtrain,ytrain)\n",
    "\n",
    "\n"
   ]
  },
  {
   "cell_type": "code",
   "execution_count": 21,
   "metadata": {},
   "outputs": [
    {
     "ename": "NameError",
     "evalue": "name 'xtrain' is not defined",
     "output_type": "error",
     "traceback": [
      "\u001b[1;31m---------------------------------------------------------------------------\u001b[0m",
      "\u001b[1;31mNameError\u001b[0m                                 Traceback (most recent call last)",
      "Cell \u001b[1;32mIn[21], line 3\u001b[0m\n\u001b[0;32m      1\u001b[0m \u001b[39mfrom\u001b[39;00m \u001b[39msklearn\u001b[39;00m\u001b[39m.\u001b[39;00m\u001b[39mneighbors\u001b[39;00m \u001b[39mimport\u001b[39;00m KNeighborsClassifier\n\u001b[0;32m      2\u001b[0m model\u001b[39m=\u001b[39mKNeighborsClassifier(n_neighbors\u001b[39m=\u001b[39m\u001b[39m3\u001b[39m)\n\u001b[1;32m----> 3\u001b[0m model\u001b[39m.\u001b[39mfit(xtrain,ytrain)\n",
      "\u001b[1;31mNameError\u001b[0m: name 'xtrain' is not defined"
     ]
    }
   ],
   "source": []
  },
  {
   "cell_type": "code",
   "execution_count": null,
   "metadata": {},
   "outputs": [],
   "source": [
    "ypred=model.predict(xtest)\n"
   ]
  },
  {
   "cell_type": "code",
   "execution_count": null,
   "metadata": {},
   "outputs": [
    {
     "name": "stdout",
     "output_type": "stream",
     "text": [
      "75.75757575757575\n"
     ]
    }
   ],
   "source": [
    "from sklearn.metrics import accuracy_score\n",
    "print(accuracy_score(ytest,ypred)*100)"
   ]
  },
  {
   "cell_type": "code",
   "execution_count": null,
   "metadata": {},
   "outputs": [],
   "source": [
    "#inverse label encoding:\n",
    "# Now use inverse_transform to revert the changes at any time may be at the\n",
    "# end of predictions to analyse the data with predictions\n"
   ]
  },
  {
   "cell_type": "code",
   "execution_count": null,
   "metadata": {},
   "outputs": [],
   "source": []
  },
  {
   "cell_type": "code",
   "execution_count": null,
   "metadata": {},
   "outputs": [
    {
     "data": {
      "text/plain": [
       "<bound method IndexOpsMixin.value_counts of 0                    Ecuador\n",
       "1         Dominican-Republic\n",
       "2                   Columbia\n",
       "3                   Columbia\n",
       "4                   Columbia\n",
       "                ...         \n",
       "32556               Columbia\n",
       "32557               Columbia\n",
       "32558               Columbia\n",
       "32559               Columbia\n",
       "32560                   Cuba\n",
       "Name: b, Length: 32561, dtype: object>"
      ]
     },
     "execution_count": 137,
     "metadata": {},
     "output_type": "execute_result"
    }
   ],
   "source": []
  },
  {
   "cell_type": "code",
   "execution_count": null,
   "metadata": {},
   "outputs": [],
   "source": [
    "#prediction\n",
    "print(model.predict([[]]))"
   ]
  }
 ],
 "metadata": {
  "kernelspec": {
   "display_name": "Python 3",
   "language": "python",
   "name": "python3"
  },
  "language_info": {
   "codemirror_mode": {
    "name": "ipython",
    "version": 3
   },
   "file_extension": ".py",
   "mimetype": "text/x-python",
   "name": "python",
   "nbconvert_exporter": "python",
   "pygments_lexer": "ipython3",
   "version": "3.11.4"
  },
  "orig_nbformat": 4
 },
 "nbformat": 4,
 "nbformat_minor": 2
}
